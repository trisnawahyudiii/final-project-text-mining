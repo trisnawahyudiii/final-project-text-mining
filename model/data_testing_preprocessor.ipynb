{
 "cells": [
  {
   "cell_type": "code",
   "execution_count": 14,
   "metadata": {},
   "outputs": [],
   "source": [
    "import pandas as pd"
   ]
  },
  {
   "cell_type": "code",
   "execution_count": 15,
   "metadata": {},
   "outputs": [],
   "source": [
    "df_100 = pd.read_csv('../datasets/web_testing/Data Signal B2 & B4 - 100.csv')\n",
    "df_200 = pd.read_csv('../datasets/web_testing/Data Signal B2 & B4 - 200.csv')\n",
    "df_300 = pd.read_csv('../datasets/web_testing/Data Signal B2 & B4 - 300.csv')"
   ]
  },
  {
   "cell_type": "code",
   "execution_count": 16,
   "metadata": {},
   "outputs": [
    {
     "data": {
      "text/html": [
       "<div>\n",
       "<style scoped>\n",
       "    .dataframe tbody tr th:only-of-type {\n",
       "        vertical-align: middle;\n",
       "    }\n",
       "\n",
       "    .dataframe tbody tr th {\n",
       "        vertical-align: top;\n",
       "    }\n",
       "\n",
       "    .dataframe thead th {\n",
       "        text-align: right;\n",
       "    }\n",
       "</style>\n",
       "<table border=\"1\" class=\"dataframe\">\n",
       "  <thead>\n",
       "    <tr style=\"text-align: right;\">\n",
       "      <th></th>\n",
       "      <th>userName</th>\n",
       "      <th>score</th>\n",
       "      <th>at</th>\n",
       "      <th>content</th>\n",
       "    </tr>\n",
       "  </thead>\n",
       "  <tbody>\n",
       "    <tr>\n",
       "      <th>0</th>\n",
       "      <td>Dede Habiel</td>\n",
       "      <td>2</td>\n",
       "      <td>2023-12-27 9:13:14</td>\n",
       "      <td>Ribet di verifikasi...lama udah ngedip berkali...</td>\n",
       "    </tr>\n",
       "    <tr>\n",
       "      <th>1</th>\n",
       "      <td>Munyati Sulam Alnur</td>\n",
       "      <td>2</td>\n",
       "      <td>2023-12-26 6:26:59</td>\n",
       "      <td>Pertama kali coba bayar bisa tp mau bayar yg k...</td>\n",
       "    </tr>\n",
       "    <tr>\n",
       "      <th>2</th>\n",
       "      <td>Gambus Jaya</td>\n",
       "      <td>2</td>\n",
       "      <td>2023-12-23 8:32:46</td>\n",
       "      <td>perbaiki pelayanan buat respon kl bisa max 2 h...</td>\n",
       "    </tr>\n",
       "    <tr>\n",
       "      <th>3</th>\n",
       "      <td>EkotarU</td>\n",
       "      <td>2</td>\n",
       "      <td>2023-12-23 7:35:17</td>\n",
       "      <td>Buruk untuk verifikasi data diri dan yang utam...</td>\n",
       "    </tr>\n",
       "    <tr>\n",
       "      <th>4</th>\n",
       "      <td>Doni Akbar Munthe</td>\n",
       "      <td>2</td>\n",
       "      <td>2023-12-21 9:45:55</td>\n",
       "      <td>Data sudah lengkap, tinggal masuk ke \"Konfirma...</td>\n",
       "    </tr>\n",
       "  </tbody>\n",
       "</table>\n",
       "</div>"
      ],
      "text/plain": [
       "              userName  score                  at  \\\n",
       "0          Dede Habiel      2  2023-12-27 9:13:14   \n",
       "1  Munyati Sulam Alnur      2  2023-12-26 6:26:59   \n",
       "2          Gambus Jaya      2  2023-12-23 8:32:46   \n",
       "3              EkotarU      2  2023-12-23 7:35:17   \n",
       "4    Doni Akbar Munthe      2  2023-12-21 9:45:55   \n",
       "\n",
       "                                             content  \n",
       "0  Ribet di verifikasi...lama udah ngedip berkali...  \n",
       "1  Pertama kali coba bayar bisa tp mau bayar yg k...  \n",
       "2  perbaiki pelayanan buat respon kl bisa max 2 h...  \n",
       "3  Buruk untuk verifikasi data diri dan yang utam...  \n",
       "4  Data sudah lengkap, tinggal masuk ke \"Konfirma...  "
      ]
     },
     "execution_count": 16,
     "metadata": {},
     "output_type": "execute_result"
    }
   ],
   "source": [
    "df_100.head()"
   ]
  },
  {
   "cell_type": "code",
   "execution_count": 17,
   "metadata": {},
   "outputs": [],
   "source": [
    "def process_dataset(data):\n",
    "    data['review'] = data['content']\n",
    "    data = data.drop([\"userName\", \"score\", \"at\", \"content\"], axis=1)\n",
    "    \n",
    "    return data\n"
   ]
  },
  {
   "cell_type": "code",
   "execution_count": 18,
   "metadata": {},
   "outputs": [],
   "source": [
    "df_100 = process_dataset(df_100)\n",
    "df_200 = process_dataset(df_200)\n",
    "df_300 = process_dataset(df_300)"
   ]
  },
  {
   "cell_type": "code",
   "execution_count": 19,
   "metadata": {},
   "outputs": [
    {
     "data": {
      "text/html": [
       "<div>\n",
       "<style scoped>\n",
       "    .dataframe tbody tr th:only-of-type {\n",
       "        vertical-align: middle;\n",
       "    }\n",
       "\n",
       "    .dataframe tbody tr th {\n",
       "        vertical-align: top;\n",
       "    }\n",
       "\n",
       "    .dataframe thead th {\n",
       "        text-align: right;\n",
       "    }\n",
       "</style>\n",
       "<table border=\"1\" class=\"dataframe\">\n",
       "  <thead>\n",
       "    <tr style=\"text-align: right;\">\n",
       "      <th></th>\n",
       "      <th>review</th>\n",
       "    </tr>\n",
       "  </thead>\n",
       "  <tbody>\n",
       "    <tr>\n",
       "      <th>0</th>\n",
       "      <td>Ribet di verifikasi...lama udah ngedip berkali...</td>\n",
       "    </tr>\n",
       "    <tr>\n",
       "      <th>1</th>\n",
       "      <td>Pertama kali coba bayar bisa tp mau bayar yg k...</td>\n",
       "    </tr>\n",
       "    <tr>\n",
       "      <th>2</th>\n",
       "      <td>perbaiki pelayanan buat respon kl bisa max 2 h...</td>\n",
       "    </tr>\n",
       "    <tr>\n",
       "      <th>3</th>\n",
       "      <td>Buruk untuk verifikasi data diri dan yang utam...</td>\n",
       "    </tr>\n",
       "    <tr>\n",
       "      <th>4</th>\n",
       "      <td>Data sudah lengkap, tinggal masuk ke \"Konfirma...</td>\n",
       "    </tr>\n",
       "  </tbody>\n",
       "</table>\n",
       "</div>"
      ],
      "text/plain": [
       "                                              review\n",
       "0  Ribet di verifikasi...lama udah ngedip berkali...\n",
       "1  Pertama kali coba bayar bisa tp mau bayar yg k...\n",
       "2  perbaiki pelayanan buat respon kl bisa max 2 h...\n",
       "3  Buruk untuk verifikasi data diri dan yang utam...\n",
       "4  Data sudah lengkap, tinggal masuk ke \"Konfirma..."
      ]
     },
     "execution_count": 19,
     "metadata": {},
     "output_type": "execute_result"
    }
   ],
   "source": [
    "df_100.head()"
   ]
  },
  {
   "cell_type": "code",
   "execution_count": null,
   "metadata": {},
   "outputs": [],
   "source": [
    "df_100.to_csv('../datasets/web_testing/dataset_100.csv', index=False)\n",
    "df_200.to_csv('../datasets/web_testing/dataset_200.csv', index=False)\n",
    "df_300.to_csv('../datasets/web_testing/dataset_300.csv', index=False)"
   ]
  }
 ],
 "metadata": {
  "kernelspec": {
   "display_name": "Python 3",
   "language": "python",
   "name": "python3"
  },
  "language_info": {
   "codemirror_mode": {
    "name": "ipython",
    "version": 3
   },
   "file_extension": ".py",
   "mimetype": "text/x-python",
   "name": "python",
   "nbconvert_exporter": "python",
   "pygments_lexer": "ipython3",
   "version": "3.12.1"
  }
 },
 "nbformat": 4,
 "nbformat_minor": 2
}
